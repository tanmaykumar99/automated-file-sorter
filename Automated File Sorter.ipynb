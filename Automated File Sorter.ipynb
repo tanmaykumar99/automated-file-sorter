{
 "cells": [
  {
   "cell_type": "markdown",
   "id": "30376536-6411-43d3-951f-f3ace1b628e4",
   "metadata": {},
   "source": [
    "## Automatic File Sorter in File Explorer\n",
    "\n",
    "This script automatically sorts CSV, Excel (.xlsx), and SQL files in a specified folder into dedicated subfolders, and does it\n",
    "periodically every day at the OS-level."
   ]
  },
  {
   "cell_type": "code",
   "execution_count": 21,
   "id": "85ad4d1b-eb22-4c30-8b79-c0a2faa8b412",
   "metadata": {},
   "outputs": [],
   "source": [
    "import os, shutil\n",
    "path = \"/Users/tanmac/Desktop/DA/\" # Change path accordingly"
   ]
  },
  {
   "cell_type": "code",
   "execution_count": 24,
   "id": "a05595a2-b455-42b0-836b-9c47890cfe7d",
   "metadata": {},
   "outputs": [],
   "source": [
    "def create_folders(base_path, folder_names):\n",
    "    for folder in folder_names:\n",
    "        folder_path = os.path.join(base_path, folder)\n",
    "        if not os.path.exists(folder_path):\n",
    "            os.makedirs(folder_path)\n",
    "            print(f\"Created folder: {folder_path}\")"
   ]
  },
  {
   "cell_type": "code",
   "execution_count": null,
   "id": "266f7e7c-c05e-4317-ac91-f2af97f0c412",
   "metadata": {},
   "outputs": [],
   "source": [
    "def move_files(base_path, folder_names):\n",
    "    \"\"\"Move files into their respective folders.\"\"\"\n",
    "    for file in os.listdir(base_path):\n",
    "        file_path = os.path.join(base_path, file)\n",
    "        if os.path.isfile(file_path):\n",
    "            if file.endswith('.csv'):\n",
    "                dest = os.path.join(base_path, folder_names['csv'], file)\n",
    "            elif file.endswith('.xlsx'):\n",
    "                dest = os.path.join(base_path, folder_names['xlsx'], file)\n",
    "            elif file.endswith('.sql'):\n",
    "                dest = os.path.join(base_path, folder_names['sql'], file)\n",
    "            else:\n",
    "                continue  # Skip files that are not CSV, XLSX, or SQL\n",
    "\n",
    "            if not os.path.exists(dest):\n",
    "                shutil.move(file_path, dest)\n",
    "                print(f\"Moved: {file} -> {dest}\")"
   ]
  },
  {
   "cell_type": "code",
   "execution_count": 33,
   "id": "a0647bcf-c755-4fb1-ac60-336531c033a3",
   "metadata": {},
   "outputs": [],
   "source": [
    "for file in file_name:\n",
    "    if '.csv' in file and not os.path.exists(path+'csv files/'+file):\n",
    "        shutil.move(path+file,path+'csv files/'+file)\n",
    "    elif '.xlsx' in file and not os.path.exists(path+'xlsx files/'+file):\n",
    "        shutil.move(path+file,path+'xlsx files/'+file)\n",
    "    elif '.sql' in file and not os.path.exists(path+'sql files/'+file):\n",
    "        shutil.move(path+file,path+'sql files/'+file)"
   ]
  },
  {
   "cell_type": "code",
   "execution_count": null,
   "id": "e8d8d68e-d9af-4789-b540-0f880450e912",
   "metadata": {},
   "outputs": [],
   "source": [
    "def main():\n",
    "    base_path = \"/Users/tanmac/Desktop/DA\"\n",
    "\n",
    "    folder_names = {\n",
    "        'csv': 'csv files',\n",
    "        'xlsx': 'xlsx files',\n",
    "        'sql': 'sql files'\n",
    "    }\n",
    "\n",
    "    create_folders(base_path, folder_names.values())\n",
    "    move_files(base_path, folder_names)\n",
    "    print(\"File sorting complete!\")"
   ]
  },
  {
   "cell_type": "code",
   "execution_count": null,
   "id": "5302f74d-c02f-4215-ba93-65d5d5c1429e",
   "metadata": {},
   "outputs": [],
   "source": [
    "if __name__ == \"__main__\":\n",
    "    main()"
   ]
  }
 ],
 "metadata": {
  "kernelspec": {
   "display_name": "Python [conda env:base] *",
   "language": "python",
   "name": "conda-base-py"
  },
  "language_info": {
   "codemirror_mode": {
    "name": "ipython",
    "version": 3
   },
   "file_extension": ".py",
   "mimetype": "text/x-python",
   "name": "python",
   "nbconvert_exporter": "python",
   "pygments_lexer": "ipython3",
   "version": "3.13.5"
  }
 },
 "nbformat": 4,
 "nbformat_minor": 5
}
